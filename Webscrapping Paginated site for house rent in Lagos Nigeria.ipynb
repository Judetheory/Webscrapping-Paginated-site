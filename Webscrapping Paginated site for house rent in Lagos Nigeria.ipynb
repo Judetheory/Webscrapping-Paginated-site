{
 "cells": [
  {
   "cell_type": "markdown",
   "id": "a8a474d1",
   "metadata": {},
   "source": [
    "# TITLE: WEBSCRAPPING OF NIGERIA REAL ESTATE PAGINATED SITE  WITH LAGOS AS CASE STUDY\n",
    "\n",
    "# NAME: JUDE TOCHUKWU OGBOZOR\n",
    "\n",
    "# DATE: 26TH FEBRUARY, 2022\n",
    "\n",
    "                                              my_programming_philosophy: ~~~Best output with the simplest line of code~~~"
   ]
  },
  {
   "cell_type": "markdown",
   "id": "4846981e",
   "metadata": {},
   "source": [
    "## INTRODUCTION\n",
    "\n",
    "Lagos is a port and the most populous city in Nigeria. It is the second fastest-growing city in Africa and the seventh in the world. The population of Lagos according to the Lagos State Government, was 17.5 million. These figures are however disputed by the Nigerian Government and judged unreliable by the National Population Commission of Nigeria. The latest reports estimate the population at 21 million, making Lagos the largest city in Africa.\n",
    "\n",
    "Lagos is a metropolitan area which originated on islands separated by creeks, such as Lagos Island, fringing the southwest mouth of Lagos Lagoon while protected from the Atlantic Ocean by long sand spits such as Bar Beach, which stretch up to 100 kilometres (62 miles) east and west of the mouth. From the beginning, Lagos has expanded on the mainland west of the lagoon and the conurbation, including Ikeja (which is the capital of Lagos) and Agege, now reaches more than 40 kilometres (25 miles) north-west of Lagos Island. Some suburbs include Ikorodu, Epe and Badagry, and more local councils have recently been created, bringing the total number of local governments in Lagos to 57\n",
    "\n",
    "\n",
    "\n",
    "Content from Nigeria Property Centre\n",
    "Read more at: https://nigeriapropertycentre.com/for-rent/houses/lagos/showtype\n",
    "\n",
    "\n",
    "The challenge of getting an apartment in Lagos is still very real and challenging especially when the cost and serenity of the  environment are considered. In most cases one will have to sacrifice one for the other. The below factors affect the decision of an average Lagosians in choosing a place of residence:\n",
    "- Closeness to work place\n",
    "- Safety of the environment\n",
    "- Serenity of the environment\n",
    "- cost of apartment\n",
    "- Networking\n",
    "\n",
    "## OBJECTIVES\n",
    "\n",
    "- to scrape a real estate site with **multiple** pages for houses on rent in Lagos\n",
    "- Obtain important information like; House description, Price per annum and Location\n",
    "- Save as CSV file for further use"
   ]
  },
  {
   "cell_type": "code",
   "execution_count": 21,
   "id": "c5e3bd59",
   "metadata": {},
   "outputs": [
    {
     "name": "stdout",
     "output_type": "stream",
     "text": [
      "Requirement already satisfied: beautifulsoup4 in c:\\users\\tobechukwu\\appdata\\local\\programs\\python\\python310\\lib\\site-packages (4.10.0)\n",
      "Requirement already satisfied: soupsieve>1.2 in c:\\users\\tobechukwu\\appdata\\local\\programs\\python\\python310\\lib\\site-packages (from beautifulsoup4) (2.3.1)\n"
     ]
    },
    {
     "name": "stderr",
     "output_type": "stream",
     "text": [
      "WARNING: You are using pip version 21.2.4; however, version 22.0.3 is available.\n",
      "You should consider upgrading via the 'C:\\Users\\Tobechukwu\\AppData\\Local\\Programs\\Python\\Python310\\python.exe -m pip install --upgrade pip' command.\n"
     ]
    },
    {
     "name": "stdout",
     "output_type": "stream",
     "text": [
      "Requirement already satisfied: requests in c:\\users\\tobechukwu\\appdata\\local\\programs\\python\\python310\\lib\\site-packages (2.27.1)\n",
      "Requirement already satisfied: charset-normalizer~=2.0.0 in c:\\users\\tobechukwu\\appdata\\local\\programs\\python\\python310\\lib\\site-packages (from requests) (2.0.10)\n",
      "Requirement already satisfied: certifi>=2017.4.17 in c:\\users\\tobechukwu\\appdata\\local\\programs\\python\\python310\\lib\\site-packages (from requests) (2021.10.8)\n",
      "Requirement already satisfied: urllib3<1.27,>=1.21.1 in c:\\users\\tobechukwu\\appdata\\local\\programs\\python\\python310\\lib\\site-packages (from requests) (1.26.8)\n",
      "Requirement already satisfied: idna<4,>=2.5 in c:\\users\\tobechukwu\\appdata\\local\\programs\\python\\python310\\lib\\site-packages (from requests) (3.3)\n"
     ]
    },
    {
     "name": "stderr",
     "output_type": "stream",
     "text": [
      "WARNING: You are using pip version 21.2.4; however, version 22.0.3 is available.\n",
      "You should consider upgrading via the 'C:\\Users\\Tobechukwu\\AppData\\Local\\Programs\\Python\\Python310\\python.exe -m pip install --upgrade pip' command.\n"
     ]
    }
   ],
   "source": [
    "#install the necessary modules\n",
    "!pip install beautifulsoup4\n",
    "!pip install requests"
   ]
  },
  {
   "cell_type": "markdown",
   "id": "1130a770",
   "metadata": {},
   "source": [
    "## Private Property\n",
    "\n",
    "This data is extracted from the site of private property (https://www.privateproperty.com.ng/) which give different real estate agents opportunity to showcase properties for sale and rent within Nigeria."
   ]
  },
  {
   "cell_type": "code",
   "execution_count": 3,
   "id": "80423086",
   "metadata": {},
   "outputs": [],
   "source": [
    "#import the necessary libraries\n",
    "\n",
    "import pandas as pd\n",
    "from bs4 import BeautifulSoup\n",
    "import requests\n",
    "from csv import writer"
   ]
  },
  {
   "cell_type": "markdown",
   "id": "e9c951c1",
   "metadata": {},
   "source": [
    "## Explain code\n",
    "\n",
    "- we copy the url of the site to be scraped\n",
    "- we created a while loop to iterate through the 144 pages\n",
    "- with the function find_all, the general class containing all the information needed was called and saved in the variable \"Property\"\n",
    "- each of the element was called out from the property variable with a \"FOR LOOP\"\n",
    "- Data wrangling was done with \"REPLACE\" and \"STRIP\"\n",
    "- this was read and closed with the \"WITH\" function and saved as House_rent_in_Lagos_paginated.csv"
   ]
  },
  {
   "cell_type": "code",
   "execution_count": 20,
   "id": "c2b6a38c",
   "metadata": {},
   "outputs": [],
   "source": [
    "# extracting html of the url and saving as csv file\n",
    "\n",
    "url=\"https://www.privateproperty.com.ng/property-for-rent/lagos\"\n",
    "with open('House_rent_in_Lagos_paginated.csv', 'w', encoding='utf8', newline='') as f:\n",
    "    thewriter=writer(f)\n",
    "    header=['DESCRIPTION','LOCATION','PRICE']\n",
    "    thewriter.writerow(header)\n",
    "    max_pages=144\n",
    "    current_page=1\n",
    "    \n",
    "    while current_page<=max_pages:\n",
    "        current_url=f'{url}?page={current_page}'\n",
    "        raw_html=requests.get(current_url)\n",
    "        soup=BeautifulSoup(raw_html.text, \"html.parser\")\n",
    "        Property=soup.find_all('div', class_='item-body table-cell')\n",
    "        \n",
    "        for house in Property:\n",
    "            Description=house.find('div',class_= 'property-title-default').text.replace('\\n', '').strip()\n",
    "            Location=house.find('div', class_='property-location overflow-ellipse-mobile').text.replace('\\n','').strip()\n",
    "            Price=house.find('div',class_='info-row price').text.replace('\\n','').strip()\n",
    "            info=[Description,Location,Price]\n",
    "            thewriter.writerow(info)\n",
    "        current_page+=1"
   ]
  },
  {
   "cell_type": "markdown",
   "id": "7125baad",
   "metadata": {},
   "source": [
    "## CONCLUSION\n",
    "\n",
    "We are able to scrape usage information for private property site with houses for rent in lagos as case studies and saved as csv. This information can be used for further analysis and studies.\n",
    "\n"
   ]
  }
 ],
 "metadata": {
  "kernelspec": {
   "display_name": "Python 3 (ipykernel)",
   "language": "python",
   "name": "python3"
  },
  "language_info": {
   "codemirror_mode": {
    "name": "ipython",
    "version": 3
   },
   "file_extension": ".py",
   "mimetype": "text/x-python",
   "name": "python",
   "nbconvert_exporter": "python",
   "pygments_lexer": "ipython3",
   "version": "3.10.1"
  }
 },
 "nbformat": 4,
 "nbformat_minor": 5
}
